{
 "cells": [
  {
   "cell_type": "code",
   "execution_count": 1,
   "metadata": {},
   "outputs": [
    {
     "name": "stdout",
     "output_type": "stream",
     "text": [
      "{'Key': 'Value', 'Key2': 'Value2'}\n"
     ]
    }
   ],
   "source": [
    "#Define A Basic Dictionary\n",
    "my_dict = {\n",
    "    \"Key\":\"Value\",\n",
    "    \"Key2\":\"Value2\"\n",
    "}\n",
    "print(my_dict)\n"
   ]
  },
  {
   "cell_type": "code",
   "execution_count": 2,
   "metadata": {},
   "outputs": [
    {
     "name": "stdout",
     "output_type": "stream",
     "text": [
      "{'key1': 'value1'}\n"
     ]
    }
   ],
   "source": [
    "#Convert List OF Tuples To Dictionary\n",
    "new_dict = {}\n",
    "my_list = [(\"key1\", \"value1\")]\n",
    "\n",
    "for key,value in my_list:\n",
    "    new_dict[key]=value\n",
    "\n",
    "print(new_dict)"
   ]
  },
  {
   "cell_type": "code",
   "execution_count": null,
   "metadata": {},
   "outputs": [],
   "source": []
  }
 ],
 "metadata": {
  "kernelspec": {
   "display_name": "Python 3.10.4 64-bit",
   "language": "python",
   "name": "python3"
  },
  "language_info": {
   "codemirror_mode": {
    "name": "ipython",
    "version": 3
   },
   "file_extension": ".py",
   "mimetype": "text/x-python",
   "name": "python",
   "nbconvert_exporter": "python",
   "pygments_lexer": "ipython3",
   "version": "3.10.4"
  },
  "orig_nbformat": 4,
  "vscode": {
   "interpreter": {
    "hash": "fff41e9c2bb01dd1b2cbc607e509d7f4aba113036bb8d49cd2c5e18b93c6acd8"
   }
  }
 },
 "nbformat": 4,
 "nbformat_minor": 2
}
